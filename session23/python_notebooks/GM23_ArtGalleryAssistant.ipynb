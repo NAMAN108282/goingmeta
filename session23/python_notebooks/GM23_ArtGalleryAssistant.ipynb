{
  "nbformat": 4,
  "nbformat_minor": 0,
  "metadata": {
    "colab": {
      "provenance": [],
      "authorship_tag": "ABX9TyNcD7SlSaSVC2sslJWb1Hxp",
      "include_colab_link": true
    },
    "kernelspec": {
      "name": "python3",
      "display_name": "Python 3"
    },
    "language_info": {
      "name": "python"
    }
  },
  "cells": [
    {
      "cell_type": "markdown",
      "metadata": {
        "id": "view-in-github",
        "colab_type": "text"
      },
      "source": [
        "<a href=\"https://colab.research.google.com/github/jbarrasa/goingmeta/blob/main/session23/python_notebooks/GM23_ArtGalleryAssistant.ipynb\" target=\"_parent\"><img src=\"https://colab.research.google.com/assets/colab-badge.svg\" alt=\"Open In Colab\"/></a>"
      ]
    },
    {
      "cell_type": "code",
      "execution_count": null,
      "metadata": {
        "id": "4e55F-uTLwhF"
      },
      "outputs": [],
      "source": [
        "!pip install neo4j openai langchain tiktoken"
      ]
    },
    {
      "cell_type": "code",
      "source": [
        "import os\n",
        "from pprint import pprint\n",
        "from google.colab import userdata\n",
        "\n",
        "os.environ['OPENAI_API_KEY'] = userdata.get('OPENAI_API_KEY')\n",
        "os.environ['NEO4J_URL'] = \"\"\n",
        "os.environ['NEO4J_USR'] = \"\"\n",
        "os.environ['NEO4J_PWD'] = \"\""
      ],
      "metadata": {
        "id": "7H0UB2N9L1D6"
      },
      "execution_count": 16,
      "outputs": []
    },
    {
      "cell_type": "code",
      "source": [
        "from langchain.graphs import Neo4jGraph\n",
        "from langchain.vectorstores.neo4j_vector import Neo4jVector\n",
        "from langchain.embeddings.openai import OpenAIEmbeddings\n",
        "from langchain.chains import RetrievalQA\n",
        "from langchain.chat_models import ChatOpenAI\n",
        "\n",
        "url = os.environ['NEO4J_URL']\n",
        "username = os.environ['NEO4J_USR']\n",
        "password = os.environ['NEO4J_PWD']\n",
        "\n",
        "vector_index = Neo4jVector.from_existing_graph(\n",
        "    OpenAIEmbeddings(),\n",
        "    url=url,\n",
        "    username=username,\n",
        "    password=password,\n",
        "    index_name='artworks',\n",
        "    node_label=\"Artwork\",\n",
        "    text_node_properties=['title', 'display_caption', 'artist'],\n",
        "    embedding_node_property='embedding',\n",
        ")\n"
      ],
      "metadata": {
        "id": "t97lYZ1duGqS"
      },
      "execution_count": 4,
      "outputs": []
    },
    {
      "cell_type": "code",
      "source": [
        "search_string = \"I'm interested in works by Constable featuring buildings\"\n",
        "#search_string = \"How does Andy Warhol's artwork address the theme of death?\"\n",
        "#search_string = \"I'm interested in artworks that focus on geometric forms\"\n",
        "\n",
        "response = vector_index.similarity_search(search_string, k=3)\n",
        "for r in response:\n",
        "  print(r.page_content)\n"
      ],
      "metadata": {
        "colab": {
          "base_uri": "https://localhost:8080/"
        },
        "id": "0gzg3rVyxkJu",
        "outputId": "13608776-5689-4baf-b931-9a99313a52a2"
      },
      "execution_count": 8,
      "outputs": [
        {
          "output_type": "stream",
          "name": "stdout",
          "text": [
            "\n",
            "title: A Bank on Hampstead Heath\n",
            "display_caption: \n",
            "Between 1819 to 1826 Constable rented a house at Hampstead nearly every summer and made many oil sketches of the surrounding landscape and skies. In 1827 he moved there permanently. Constable was fascinated with the broken textures of the heath, and made a number of studies of it seen from close to. Some of these are quite highly finished, like this example. A glimpse of more distant landscape to the right acts as a counterbalance, while the tiny figures on the horizon help establish the scale. \n",
            "Gallery label, May 2007\n",
            "Does this text contain inaccurate information or language that you feel we should improve or change? We would like to hear from you.\n",
            "\n",
            "artist: Constable, John\n",
            "\n",
            "title: The Church Porch, East Bergholt\n",
            "display_caption: \n",
            "\n",
            "Three figures sit and talk outside the church in East Bergholt, the village in Suffolk where Constable was born. A man, wearing a red cloak and tricorn hat, and a woman lean on the tombs while a younger girl sits opposite. These figures, old and young, and their placement in the graveyard may have been a deliberate way to build a deeper meaning into the scene, about the passage of time and our mortality. Though it is small, this was an important work for Constable – we think it was the first painting he submitted himself for exhibition at the Royal Academy.\n",
            "\n",
            "Gallery label, October 2023\n",
            "Does this text contain inaccurate information or language that you feel we should improve or change? We would like to hear from you.\n",
            "\n",
            "artist: Constable, John\n",
            "\n",
            "title: The Glebe Farm\n",
            "display_caption: \n",
            "\n",
            "The cottage nestling in woodland is a common theme in nineteenth-century art. Painting this popular scene may suggest Constable was hoping to guarantee this work would sell.This painting also has an additional, personal significance. The image is based on an oil sketch of the home of Constable’s old friend and supporter Dr Fisher, Bishop of Salisbury. Fisher’s death in 1825 prompted Constable to return to the sketch and produce multiple oil paintings of the scene.\n",
            "\n",
            "Gallery label, February 2019\n",
            "Does this text contain inaccurate information or language that you feel we should improve or change? We would like to hear from you.\n",
            "\n",
            "artist: Constable, John\n"
          ]
        }
      ]
    },
    {
      "cell_type": "code",
      "source": [
        "enrich_for_summary_query = \"\"\"\n",
        "match (node:Artwork)-[:has_subject|broader*]->(s)\n",
        "with node as aw, reduce(r=\"\", x in collect(s.name) | r + \", \" + x) as featurelist, score, {} as metadata\n",
        "return \"\\n\\ntitle: \" + aw.title + \"\\nauthor: \" + aw.artist + \"\\nmedium: \" + aw.medium + \"\\nfeatures: \" + featurelist + \"\\nurl:\" + aw.url as text, score, metadata\n",
        "\"\"\"\n",
        "\n",
        "contextualized_vectorstore = Neo4jVector.from_existing_index(\n",
        "    OpenAIEmbeddings(),\n",
        "    url=os.environ['NEO4J_URL'],\n",
        "    username=os.environ['NEO4J_USR'],\n",
        "    password=os.environ['NEO4J_PWD'],\n",
        "    index_name=\"artworks\",\n",
        "    retrieval_query=enrich_for_summary_query,\n",
        ")"
      ],
      "metadata": {
        "id": "1nv5Wye3MvZ0"
      },
      "execution_count": 5,
      "outputs": []
    },
    {
      "cell_type": "code",
      "source": [
        "def kg_recommendations_app(input):\n",
        "  response = contextualized_vectorstore.similarity_search(input, k=3)\n",
        "  return \"\\n\\n\".join([d.page_content for d in response])"
      ],
      "metadata": {
        "id": "o2qaay9X1I8k"
      },
      "execution_count": 6,
      "outputs": []
    },
    {
      "cell_type": "code",
      "source": [
        "print(kg_recommendations_app(search_string))"
      ],
      "metadata": {
        "colab": {
          "base_uri": "https://localhost:8080/"
        },
        "id": "hjbag3-h6cD4",
        "outputId": "9d154be3-9715-44be-8b03-51541fb50efd"
      },
      "execution_count": 9,
      "outputs": [
        {
          "output_type": "stream",
          "name": "stdout",
          "text": [
            "\n",
            "\n",
            "title: A Bank on Hampstead Heath\n",
            "author: Constable, John\n",
            "medium: Oil paint on canvas\n",
            "features: , townscapes / man-made features, path, architecture, UK London, places, figure, UK countries and regions, England, adults, people, Hampstead Heath - non-specific, groups, group\n",
            "url:http://www.tate.org.uk/art/artworks/constable-a-bank-on-hampstead-heath-n02658\n",
            "\n",
            "\n",
            "\n",
            "title: The Church Porch, East Bergholt\n",
            "author: Constable, John\n",
            "medium: Oil paint on canvas\n",
            "features: , people, UK countries and regions, UK cities, towns and villages, England, architecture, East Anglia, emotions, concepts and ideas, figure, UK counties, emotions and human qualities, literature and fiction, adults, Gray, Thomas, ‘Elegy Written in a Country Churchyard’, 1751, religious, church, path, Suffolk, townscapes / man-made features, contemplation, East Bergholt, St Mary’s Church, graveyard, England, East, places, literature (not Shakespeare)\n",
            "url:http://www.tate.org.uk/art/artworks/constable-the-church-porch-east-bergholt-n01245\n",
            "\n",
            "\n",
            "\n",
            "title: The Glebe Farm\n",
            "author: Constable, John\n",
            "medium: Oil paint on canvas\n",
            "features: , England, East, people, places, Langham, Glebe Farm, architecture, UK counties, farm, UK countries and regions, UK cities, towns and villages, figure, England, agricultural, Essex, religious, church, adults\n",
            "url:http://www.tate.org.uk/art/artworks/constable-the-glebe-farm-n01274\n"
          ]
        }
      ]
    },
    {
      "cell_type": "markdown",
      "source": [
        "## Prompt Definition"
      ],
      "metadata": {
        "id": "JasWN0_WMQSE"
      }
    },
    {
      "cell_type": "code",
      "source": [
        "from langchain.prompts import SystemMessagePromptTemplate, HumanMessagePromptTemplate, ChatPromptTemplate\n",
        "\n",
        "general_system_template_app = '''\n",
        "You are a personal assistant for an art gallery.\n",
        "write an email to {customerName}, one of your members, to plan their next visity to the gallery.\n",
        "The email should summarize the artworks that match what they searched emphasizing on features and medium.\n",
        "Introduce an art pun too based on the results!\n",
        "Please only choose from the Artworks listed below. Do not come up with or add any new elements to the list.\n",
        "Each artwork description comes with a \"url\" field.\n",
        "Make sure to link to the url with descriptive name text for each artwork so the customer can easily find them.\n",
        "\n",
        "---\n",
        "# Relevant Artworks:\n",
        "{recArtworks}\n",
        "---\n",
        "'''\n",
        "\n",
        "general_user_template_app = '''{searchPrompt}'''\n",
        "messages_app = [\n",
        "    SystemMessagePromptTemplate.from_template(general_system_template_app),\n",
        "    HumanMessagePromptTemplate.from_template(general_user_template_app),\n",
        "]\n",
        "prompt_app = ChatPromptTemplate.from_messages(messages_app)"
      ],
      "metadata": {
        "id": "QZrwN4Hc6EKA"
      },
      "execution_count": 10,
      "outputs": []
    },
    {
      "cell_type": "code",
      "source": [
        "from operator import itemgetter\n",
        "from langchain.schema.runnable import RunnableLambda\n",
        "from langchain.schema import StrOutputParser\n",
        "\n",
        "llm = ChatOpenAI()\n",
        "\n",
        "chain_app2 = ({'recArtworks': itemgetter('searchPrompt') | RunnableLambda(kg_recommendations_app),\n",
        "             'customerName': lambda x:x['customerName'],\n",
        "             \"searchPrompt\":  lambda x:x['searchPrompt']}\n",
        "            | prompt_app\n",
        "            | llm\n",
        "            | StrOutputParser())"
      ],
      "metadata": {
        "id": "UaqFcYON8DH8"
      },
      "execution_count": 14,
      "outputs": []
    },
    {
      "cell_type": "code",
      "source": [
        "customer_name = \"Alex Erdl\"\n",
        "\n",
        "pprint(chain_app2.invoke({'searchPrompt': search_string, 'customerName': customer_name }))"
      ],
      "metadata": {
        "colab": {
          "base_uri": "https://localhost:8080/"
        },
        "id": "YJdFzqET9M7M",
        "outputId": "f5ae26ec-4c18-4c91-851e-687c376a7ee1"
      },
      "execution_count": 15,
      "outputs": [
        {
          "output_type": "stream",
          "name": "stdout",
          "text": [
            "(\"Subject: Plan your visit to the gallery - Constable's artworks featuring \"\n",
            " 'buildings!\\n'\n",
            " '\\n'\n",
            " 'Dear Alex Erdl,\\n'\n",
            " '\\n'\n",
            " 'I hope this email finds you well. I wanted to reach out and let you know '\n",
            " 'that we have some amazing artworks by Constable that align with your '\n",
            " \"interest in works featuring buildings. I've selected a few pieces that I \"\n",
            " \"think you'll enjoy during your next visit to the gallery.\\n\"\n",
            " '\\n'\n",
            " '1. \"A Bank on Hampstead Heath\" - This captivating piece showcases a '\n",
            " 'townscape with man-made features, architecture, and a path. The painting '\n",
            " 'beautifully captures the essence of UK London, with its vibrant colors and '\n",
            " 'attention to detail. You can find this artwork '\n",
            " '[here](http://www.tate.org.uk/art/artworks/constable-a-bank-on-hampstead-heath-n02658).\\n'\n",
            " '\\n'\n",
            " '2. \"The Church Porch, East Bergholt\" - In this artwork, Constable skillfully '\n",
            " 'portrays a church and its surroundings. The painting features figures and '\n",
            " \"the architecture of St Mary's Church in East Bergholt, Suffolk. It also \"\n",
            " 'explores emotions and human qualities, drawing inspiration from Thomas '\n",
            " 'Gray\\'s \"Elegy Written in a Country Churchyard.\" Experience the '\n",
            " 'contemplative atmosphere of this piece by visiting [this '\n",
            " 'link](http://www.tate.org.uk/art/artworks/constable-the-church-porch-east-bergholt-n01245).\\n'\n",
            " '\\n'\n",
            " '3. \"The Glebe Farm\" - This artwork depicts the beautiful Glebe Farm in '\n",
            " 'Langham, Essex. It showcases the architectural elements of the farm and the '\n",
            " 'surrounding landscape. The painting captures the essence of agricultural '\n",
            " 'life in England, with its rich colors and attention to detail. You can view '\n",
            " 'this artwork '\n",
            " '[here](http://www.tate.org.uk/art/artworks/constable-the-glebe-farm-n01274).\\n'\n",
            " '\\n'\n",
            " 'These artworks by Constable offer a delightful exploration of buildings and '\n",
            " 'architecture in different settings. From the urban landscapes of London to '\n",
            " \"the tranquil countryside scenes, Constable's attention to detail and use of \"\n",
            " 'oil paint on canvas bring these buildings to life.\\n'\n",
            " '\\n'\n",
            " 'Now, for a little art pun to brighten your day: \"Constable\\'s works are a '\n",
            " 'stroke of genius when it comes to capturing the beauty of buildings and the '\n",
            " \"architecture that stands tall in his paintings. Get ready to be 'drawn' into \"\n",
            " 'a world where every brushstroke tells a story!\"\\n'\n",
            " '\\n'\n",
            " 'I hope this information helps you plan your visit to the gallery. If you '\n",
            " 'have any further questions or need assistance with anything else, please '\n",
            " 'feel free to reach out. We look forward to welcoming you and sharing these '\n",
            " 'remarkable artworks with you.\\n'\n",
            " '\\n'\n",
            " 'Best regards,\\n'\n",
            " '\\n'\n",
            " '[Your Name]\\n'\n",
            " 'Personal Assistant at the Art Gallery')\n"
          ]
        }
      ]
    }
  ]
}