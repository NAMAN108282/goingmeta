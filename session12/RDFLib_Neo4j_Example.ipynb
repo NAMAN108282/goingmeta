{
  "nbformat": 4,
  "nbformat_minor": 0,
  "metadata": {
    "colab": {
      "provenance": [],
      "authorship_tag": "ABX9TyNZjGuKCLPEOt3eJPd9LpSo"
    },
    "kernelspec": {
      "name": "python3",
      "display_name": "Python 3"
    },
    "language_info": {
      "name": "python"
    }
  },
  "cells": [
    {
      "cell_type": "code",
      "source": [
        "pip install rdflib-neo4j"
      ],
      "metadata": {
        "id": "2VPAt057TzTi"
      },
      "execution_count": null,
      "outputs": []
    },
    {
      "cell_type": "code",
      "source": [
        "from rdflib import Graph, store\n",
        "\n",
        "# create a neo4j backed Graph\n",
        "g = Graph(store='neo4j-cypher')"
      ],
      "metadata": {
        "id": "1U180HeFUMVn"
      },
      "execution_count": null,
      "outputs": []
    },
    {
      "cell_type": "code",
      "source": [
        "# set the configuration to connect to your Aura DB \n",
        "theconfig = {'uri': \"neo4j+s://<DB-ID-HERE>.databases.neo4j.io\", 'database': 'neo4j', 'auth': {'user': \"neo4j\", 'pwd': \"<PWD-HERE>\"}}\n",
        "\n",
        "g.open(theconfig, create = False)"
      ],
      "metadata": {
        "id": "PkOrkW_yUUSo"
      },
      "execution_count": null,
      "outputs": []
    },
    {
      "cell_type": "code",
      "source": [
        "from rdflib import RDF, SKOS, URIRef, Literal\n",
        "from rdflib import Namespace\n",
        "\n",
        "indiv = Namespace(\"http://neo4j.com/indiv#\")\n",
        "voc = Namespace(\"http://neo4j.com/voc#\")\n",
        "\n",
        "alex = indiv.AlexErdl\n",
        "jb = indiv.JesusBarrasa\n",
        "\n",
        "g.add((alex, RDF.type, voc.Person))\n",
        "g.add((alex, RDF.type, voc.Neo4jEmployee))\n",
        "g.add((alex, voc.name, Literal(\"Alex Erdl\")))\n",
        "g.add((alex, voc.twitterHandle, Literal(\"https://twitter.com/alexandererdl\")))\n",
        "\n",
        "\n",
        "g.add((jb, RDF.type, voc.Person))\n",
        "g.add((jb, RDF.type, voc.Neo4jEmployee))\n",
        "g.add((jb, voc.name, Literal(\"Jesus Barrasa\")))\n",
        "g.add((jb, voc.twitterHandle, Literal(\"https://twitter.com/barrasadv\")))\n",
        "\n",
        "g.add((jb, voc.friend_of, alex))\n",
        "\n"
      ],
      "metadata": {
        "id": "CvBt7CfJOCjP"
      },
      "execution_count": null,
      "outputs": []
    },
    {
      "cell_type": "code",
      "source": [
        "# import triples from a file (or an endpoint returning RDF data) using .parse(<source>)\n",
        "\n",
        "# When loading larger datasets it's strongly recommended to batch the writes with startBatchedWrite() and endBatchedWrite()\n",
        "# If parse is not wrapped into start+end batch, then triples will be written to AuraDB one by one... \n",
        "# ...and performance will be significantly affected\n",
        "\n",
        "g.store.startBatchedWrite()\n",
        "g.parse(\"https://github.com/jbarrasa/gc-2022/raw/main/search/onto/concept-scheme-skos.ttl\", format=\"ttl\")\n",
        "g.store.endBatchedWrite()"
      ],
      "metadata": {
        "id": "WzsjHdnmV0ji"
      },
      "execution_count": null,
      "outputs": []
    },
    {
      "cell_type": "code",
      "source": [
        "# triples can also be imported one by one using .add(<triple>)\n",
        "\n",
        "from rdflib import RDF, SKOS, URIRef, Literal\n",
        "\n",
        "aura = URIRef(\"http://neo4j.com/voc/tech#AuraDB\")\n",
        "\n",
        "g.add((aura, RDF.type, SKOS.Concept))\n",
        "g.add((aura, SKOS.prefLabel, Literal(\"AuraDB\")))\n",
        "g.add((aura, SKOS.broader, URIRef(\"http://www.wikidata.org/entity/Q1628290\")))"
      ],
      "metadata": {
        "id": "Tu96YQVmryhJ"
      },
      "execution_count": null,
      "outputs": []
    }
  ]
}